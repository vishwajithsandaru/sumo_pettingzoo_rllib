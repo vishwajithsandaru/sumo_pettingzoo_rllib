{
 "cells": [
  {
   "cell_type": "code",
   "execution_count": 1,
   "metadata": {},
   "outputs": [
    {
     "name": "stderr",
     "output_type": "stream",
     "text": [
      "/home/sandaruvi/Applications/anaconda3/envs/torch_pz/lib/python3.10/site-packages/tqdm/auto.py:21: TqdmWarning: IProgress not found. Please update jupyter and ipywidgets. See https://ipywidgets.readthedocs.io/en/stable/user_install.html\n",
      "  from .autonotebook import tqdm as notebook_tqdm\n",
      "2024-03-07 16:24:29,667\tINFO util.py:154 -- Missing packages: ['ipywidgets']. Run `pip install -U ipywidgets`, then restart the notebook server for rich notebook output.\n",
      "2024-03-07 16:24:33,001\tINFO util.py:154 -- Missing packages: ['ipywidgets']. Run `pip install -U ipywidgets`, then restart the notebook server for rich notebook output.\n"
     ]
    }
   ],
   "source": [
    "import sumo_rl\n",
    "import ray\n",
    "from ray.rllib.env.wrappers.pettingzoo_env import ParallelPettingZooEnv\n",
    "from ray import tune\n",
    "from ray.tune.registry import register_env\n",
    "from ray.rllib.env import PettingZooEnv\n",
    "from torchrl.envs.libs.pettingzoo import PettingZooWrapper\n"
   ]
  },
  {
   "cell_type": "code",
   "execution_count": 2,
   "metadata": {},
   "outputs": [
    {
     "name": "stderr",
     "output_type": "stream",
     "text": [
      "2024-03-07 16:24:35,559\tINFO worker.py:1724 -- Started a local Ray instance.\n"
     ]
    },
    {
     "data": {
      "text/html": [
       "<div class=\"lm-Widget p-Widget lm-Panel p-Panel jp-Cell-outputWrapper\">\n",
       "    <div style=\"margin-left: 50px;display: flex;flex-direction: row;align-items: center\">\n",
       "        <div class=\"jp-RenderedHTMLCommon\" style=\"display: flex; flex-direction: row;\">\n",
       "  <svg viewBox=\"0 0 567 224\" fill=\"none\" xmlns=\"http://www.w3.org/2000/svg\" style=\"height: 3em;\">\n",
       "    <g clip-path=\"url(#clip0_4338_178347)\">\n",
       "        <path d=\"M341.29 165.561H355.29L330.13 129.051C345.63 123.991 354.21 112.051 354.21 94.2307C354.21 71.3707 338.72 58.1807 311.88 58.1807H271V165.561H283.27V131.661H311.8C314.25 131.661 316.71 131.501 319.01 131.351L341.25 165.561H341.29ZM283.29 119.851V70.0007H311.82C331.3 70.0007 342.34 78.2907 342.34 94.5507C342.34 111.271 331.34 119.861 311.82 119.861L283.29 119.851ZM451.4 138.411L463.4 165.561H476.74L428.74 58.1807H416L367.83 165.561H380.83L392.83 138.411H451.4ZM446.19 126.601H398L422 72.1407L446.24 126.601H446.19ZM526.11 128.741L566.91 58.1807H554.35L519.99 114.181L485.17 58.1807H472.44L514.01 129.181V165.541H526.13V128.741H526.11Z\" fill=\"var(--jp-ui-font-color0)\"/>\n",
       "        <path d=\"M82.35 104.44C84.0187 97.8827 87.8248 92.0678 93.1671 87.9146C98.5094 83.7614 105.083 81.5067 111.85 81.5067C118.617 81.5067 125.191 83.7614 130.533 87.9146C135.875 92.0678 139.681 97.8827 141.35 104.44H163.75C164.476 101.562 165.622 98.8057 167.15 96.2605L127.45 56.5605C121.071 60.3522 113.526 61.6823 106.235 60.3005C98.9443 58.9187 92.4094 54.9203 87.8602 49.0574C83.3109 43.1946 81.0609 35.8714 81.5332 28.4656C82.0056 21.0599 85.1679 14.0819 90.4252 8.8446C95.6824 3.60726 102.672 0.471508 110.08 0.0272655C117.487 -0.416977 124.802 1.86091 130.647 6.4324C136.493 11.0039 140.467 17.5539 141.821 24.8501C143.175 32.1463 141.816 39.6859 138 46.0505L177.69 85.7505C182.31 82.9877 187.58 81.4995 192.962 81.4375C198.345 81.3755 203.648 82.742 208.33 85.3976C213.012 88.0532 216.907 91.9029 219.616 96.5544C222.326 101.206 223.753 106.492 223.753 111.875C223.753 117.258 222.326 122.545 219.616 127.197C216.907 131.848 213.012 135.698 208.33 138.353C203.648 141.009 198.345 142.375 192.962 142.313C187.58 142.251 182.31 140.763 177.69 138L138 177.7C141.808 184.071 143.155 191.614 141.79 198.91C140.424 206.205 136.44 212.75 130.585 217.313C124.731 221.875 117.412 224.141 110.004 223.683C102.596 223.226 95.6103 220.077 90.3621 214.828C85.1139 209.58 81.9647 202.595 81.5072 195.187C81.0497 187.779 83.3154 180.459 87.878 174.605C92.4405 168.751 98.9853 164.766 106.281 163.401C113.576 162.035 121.119 163.383 127.49 167.19L167.19 127.49C165.664 124.941 164.518 122.182 163.79 119.3H141.39C139.721 125.858 135.915 131.673 130.573 135.826C125.231 139.98 118.657 142.234 111.89 142.234C105.123 142.234 98.5494 139.98 93.2071 135.826C87.8648 131.673 84.0587 125.858 82.39 119.3H60C58.1878 126.495 53.8086 132.78 47.6863 136.971C41.5641 141.163 34.1211 142.972 26.7579 142.059C19.3947 141.146 12.6191 137.574 7.70605 132.014C2.79302 126.454 0.0813599 119.29 0.0813599 111.87C0.0813599 104.451 2.79302 97.2871 7.70605 91.7272C12.6191 86.1673 19.3947 82.5947 26.7579 81.6817C34.1211 80.7686 41.5641 82.5781 47.6863 86.7696C53.8086 90.9611 58.1878 97.2456 60 104.44H82.35ZM100.86 204.32C103.407 206.868 106.759 208.453 110.345 208.806C113.93 209.159 117.527 208.258 120.522 206.256C123.517 204.254 125.725 201.276 126.771 197.828C127.816 194.38 127.633 190.677 126.253 187.349C124.874 184.021 122.383 181.274 119.205 179.577C116.027 177.88 112.359 177.337 108.826 178.042C105.293 178.746 102.113 180.654 99.8291 183.44C97.5451 186.226 96.2979 189.718 96.3 193.32C96.2985 195.364 96.7006 197.388 97.4831 199.275C98.2656 201.163 99.4132 202.877 100.86 204.32ZM204.32 122.88C206.868 120.333 208.453 116.981 208.806 113.396C209.159 109.811 208.258 106.214 206.256 103.219C204.254 100.223 201.275 98.0151 197.827 96.97C194.38 95.9249 190.676 96.1077 187.348 97.4873C184.02 98.8669 181.274 101.358 179.577 104.536C177.879 107.714 177.337 111.382 178.041 114.915C178.746 118.448 180.653 121.627 183.439 123.911C186.226 126.195 189.717 127.443 193.32 127.44C195.364 127.443 197.388 127.042 199.275 126.259C201.163 125.476 202.878 124.328 204.32 122.88ZM122.88 19.4205C120.333 16.8729 116.981 15.2876 113.395 14.9347C109.81 14.5817 106.213 15.483 103.218 17.4849C100.223 19.4868 98.0146 22.4654 96.9696 25.9131C95.9245 29.3608 96.1073 33.0642 97.4869 36.3922C98.8665 39.7202 101.358 42.4668 104.535 44.1639C107.713 45.861 111.381 46.4036 114.914 45.6992C118.447 44.9949 121.627 43.0871 123.911 40.301C126.195 37.515 127.442 34.0231 127.44 30.4205C127.44 28.3772 127.038 26.3539 126.255 24.4664C125.473 22.5788 124.326 20.8642 122.88 19.4205ZM19.42 100.86C16.8725 103.408 15.2872 106.76 14.9342 110.345C14.5813 113.93 15.4826 117.527 17.4844 120.522C19.4863 123.518 22.4649 125.726 25.9127 126.771C29.3604 127.816 33.0638 127.633 36.3918 126.254C39.7198 124.874 42.4664 122.383 44.1635 119.205C45.8606 116.027 46.4032 112.359 45.6988 108.826C44.9944 105.293 43.0866 102.114 40.3006 99.8296C37.5145 97.5455 34.0227 96.2983 30.42 96.3005C26.2938 96.3018 22.337 97.9421 19.42 100.86ZM100.86 100.86C98.3125 103.408 96.7272 106.76 96.3742 110.345C96.0213 113.93 96.9226 117.527 98.9244 120.522C100.926 123.518 103.905 125.726 107.353 126.771C110.8 127.816 114.504 127.633 117.832 126.254C121.16 124.874 123.906 122.383 125.604 119.205C127.301 116.027 127.843 112.359 127.139 108.826C126.434 105.293 124.527 102.114 121.741 99.8296C118.955 97.5455 115.463 96.2983 111.86 96.3005C109.817 96.299 107.793 96.701 105.905 97.4835C104.018 98.2661 102.303 99.4136 100.86 100.86Z\" fill=\"#00AEEF\"/>\n",
       "    </g>\n",
       "    <defs>\n",
       "        <clipPath id=\"clip0_4338_178347\">\n",
       "            <rect width=\"566.93\" height=\"223.75\" fill=\"white\"/>\n",
       "        </clipPath>\n",
       "    </defs>\n",
       "  </svg>\n",
       "</div>\n",
       "\n",
       "        <table class=\"jp-RenderedHTMLCommon\" style=\"border-collapse: collapse;color: var(--jp-ui-font-color1);font-size: var(--jp-ui-font-size1);\">\n",
       "    <tr>\n",
       "        <td style=\"text-align: left\"><b>Python version:</b></td>\n",
       "        <td style=\"text-align: left\"><b>3.10.13</b></td>\n",
       "    </tr>\n",
       "    <tr>\n",
       "        <td style=\"text-align: left\"><b>Ray version:</b></td>\n",
       "        <td style=\"text-align: left\"><b>2.9.3</b></td>\n",
       "    </tr>\n",
       "    \n",
       "</table>\n",
       "\n",
       "    </div>\n",
       "</div>\n"
      ],
      "text/plain": [
       "RayContext(dashboard_url='', python_version='3.10.13', ray_version='2.9.3', ray_commit='62655e11ed76509b78654b60be67bc59f8f3460a', protocol_version=None)"
      ]
     },
     "execution_count": 2,
     "metadata": {},
     "output_type": "execute_result"
    },
    {
     "name": "stdout",
     "output_type": "stream",
     "text": [
      "Step #5.00 (0ms ?*RT. ?UPS, TraCI: 102184ms, vehicles TOT 1 ACT 1 BUF 0)                  1 ACT 1 BUF 0)                     \n"
     ]
    }
   ],
   "source": [
    "ray.shutdown()\n",
    "ray.init()"
   ]
  },
  {
   "cell_type": "code",
   "execution_count": 3,
   "metadata": {},
   "outputs": [
    {
     "name": "stdout",
     "output_type": "stream",
     "text": [
      " Retrying in 1 seconds\n",
      "Step #0.00 (0ms ?*RT. ?UPS, TraCI: 46ms, vehicles TOT 0 ACT 0 BUF 0)                     \n",
      " Retrying in 1 seconds\n"
     ]
    },
    {
     "name": "stderr",
     "output_type": "stream",
     "text": [
      "/home/sandaruvi/Applications/anaconda3/envs/torch_pz/lib/python3.10/site-packages/pettingzoo/utils/conversions.py:132: UserWarning: The base environment `sumo_rl_v0` does not have a `render_mode` defined.\n",
      "  warnings.warn(\n"
     ]
    },
    {
     "name": "stdout",
     "output_type": "stream",
     "text": [
      "Step #0.00 (0ms ?*RT. ?UPS, TraCI: 92ms, vehicles TOT 0 ACT 0 BUF 0)                     \n"
     ]
    },
    {
     "name": "stderr",
     "output_type": "stream",
     "text": [
      "/home/sandaruvi/Applications/anaconda3/envs/torch_pz/lib/python3.10/site-packages/pettingzoo/utils/conversions.py:144: UserWarning: The `observation_spaces` dictionary is deprecated. Use the `observation_space` function instead.\n",
      "  warnings.warn(\n",
      "/home/sandaruvi/Applications/anaconda3/envs/torch_pz/lib/python3.10/site-packages/pettingzoo/utils/conversions.py:158: UserWarning: The `action_spaces` dictionary is deprecated. Use the `action_space` function instead.\n",
      "  warnings.warn(\n"
     ]
    }
   ],
   "source": [
    "env_pz = ParallelPettingZooEnv(sumo_rl.parallel_env(\n",
    "            net_file='net/grid4x4/grid4x4.net.xml',\n",
    "            route_file='net/grid4x4/grid4x4_1.rou.xml',\n",
    "            use_gui=False,\n",
    "            num_seconds=5000))\n",
    "\n",
    "def env_creator(config):\n",
    "    return env_pz\n",
    "\n",
    "register_env(\"SumoEnv\", lambda config: env_creator(config))\n",
    "\n",
    "env_pz.close()\n"
   ]
  },
  {
   "cell_type": "code",
   "execution_count": 4,
   "metadata": {},
   "outputs": [
    {
     "name": "stdout",
     "output_type": "stream",
     "text": [
      "['C0', 'D1', 'D0', 'A1', 'B1', 'D3', 'B3', 'C3', 'A2', 'A0', 'C2', 'D2', 'A3', 'B0', 'C1', 'B2']\n",
      "Box(0.0, 1.0, (33,), float32)\n"
     ]
    }
   ],
   "source": [
    "agents = [a for a in env_pz.get_agent_ids()]\n",
    "print(agents)\n",
    "print(env_pz.observation_space['A1'])"
   ]
  },
  {
   "cell_type": "code",
   "execution_count": 5,
   "metadata": {},
   "outputs": [],
   "source": [
    "def custom_policy_fn(agent_id):\n",
    "    return (None, env_pz.observation_space[agent_id], env_pz.action_space[agent_id], {})\n",
    "\n",
    "def policy_mapping(agent_id, episode, worker, **kwards):\n",
    "    return agent_id\n",
    "    "
   ]
  },
  {
   "cell_type": "code",
   "execution_count": 6,
   "metadata": {},
   "outputs": [],
   "source": [
    "config = {\n",
    "    \"env\": \"SumoEnv\",\n",
    "    \"multiagent\": {\n",
    "        \"policies\": {\n",
    "            agent_id: custom_policy_fn(agent_id)\n",
    "            for agent_id in agents\n",
    "        },\n",
    "        \"policy_mapping_fn\": policy_mapping,\n",
    "    },\n",
    "    \"framework\": \"torch\",\n",
    "}"
   ]
  },
  {
   "cell_type": "code",
   "execution_count": 7,
   "metadata": {},
   "outputs": [
    {
     "name": "stderr",
     "output_type": "stream",
     "text": [
      "2024-03-07 16:24:38,914\tINFO tune.py:583 -- [output] This uses the legacy output and progress reporter, as Jupyter notebooks are not supported by the new engine, yet. For more information, please see https://github.com/ray-project/ray/issues/36949\n",
      "/home/sandaruvi/Applications/anaconda3/envs/torch_pz/lib/python3.10/site-packages/gymnasium/spaces/box.py:130: UserWarning: \u001b[33mWARN: Box bound precision lowered by casting to float32\u001b[0m\n",
      "  gym.logger.warn(f\"Box bound precision lowered by casting to {self.dtype}\")\n",
      "/home/sandaruvi/Applications/anaconda3/envs/torch_pz/lib/python3.10/site-packages/gymnasium/utils/passive_env_checker.py:164: UserWarning: \u001b[33mWARN: The obs returned by the `reset()` method was expecting numpy array dtype to be float32, actual type: float64\u001b[0m\n",
      "  logger.warn(\n",
      "/home/sandaruvi/Applications/anaconda3/envs/torch_pz/lib/python3.10/site-packages/gymnasium/utils/passive_env_checker.py:188: UserWarning: \u001b[33mWARN: The obs returned by the `reset()` method is not within the observation space.\u001b[0m\n",
      "  logger.warn(f\"{pre} is not within the observation space.\")\n"
     ]
    },
    {
     "data": {
      "text/html": [
       "<div class=\"tuneStatus\">\n",
       "  <div style=\"display: flex;flex-direction: row\">\n",
       "    <div style=\"display: flex;flex-direction: column;\">\n",
       "      <h3>Tune Status</h3>\n",
       "      <table>\n",
       "<tbody>\n",
       "<tr><td>Current time:</td><td>2024-03-07 16:31:36</td></tr>\n",
       "<tr><td>Running for: </td><td>00:06:56.93        </td></tr>\n",
       "<tr><td>Memory:      </td><td>6.9/15.5 GiB       </td></tr>\n",
       "</tbody>\n",
       "</table>\n",
       "    </div>\n",
       "    <div class=\"vDivider\"></div>\n",
       "    <div class=\"systemInfo\">\n",
       "      <h3>System Info</h3>\n",
       "      Using FIFO scheduling algorithm.<br>Logical resource usage: 3.0/8 CPUs, 0/0 GPUs\n",
       "    </div>\n",
       "    \n",
       "  </div>\n",
       "  <div class=\"hDivider\"></div>\n",
       "  <div class=\"trialStatus\">\n",
       "    <h3>Trial Status</h3>\n",
       "    <table>\n",
       "<thead>\n",
       "<tr><th>Trial name             </th><th>status    </th><th>loc              </th><th style=\"text-align: right;\">  iter</th><th style=\"text-align: right;\">  total time (s)</th><th style=\"text-align: right;\">  ts</th><th style=\"text-align: right;\">  reward</th><th style=\"text-align: right;\">  episode_reward_max</th><th style=\"text-align: right;\">  episode_reward_min</th><th style=\"text-align: right;\">  episode_len_mean</th></tr>\n",
       "</thead>\n",
       "<tbody>\n",
       "<tr><td>PPO_SumoEnv_183af_00000</td><td>TERMINATED</td><td>172.20.10.2:58470</td><td style=\"text-align: right;\">     1</td><td style=\"text-align: right;\">         401.387</td><td style=\"text-align: right;\">4000</td><td style=\"text-align: right;\"> -41.326</td><td style=\"text-align: right;\">              -21.77</td><td style=\"text-align: right;\">              -64.33</td><td style=\"text-align: right;\">               400</td></tr>\n",
       "</tbody>\n",
       "</table>\n",
       "  </div>\n",
       "</div>\n",
       "<style>\n",
       ".tuneStatus {\n",
       "  color: var(--jp-ui-font-color1);\n",
       "}\n",
       ".tuneStatus .systemInfo {\n",
       "  display: flex;\n",
       "  flex-direction: column;\n",
       "}\n",
       ".tuneStatus td {\n",
       "  white-space: nowrap;\n",
       "}\n",
       ".tuneStatus .trialStatus {\n",
       "  display: flex;\n",
       "  flex-direction: column;\n",
       "}\n",
       ".tuneStatus h3 {\n",
       "  font-weight: bold;\n",
       "}\n",
       ".tuneStatus .hDivider {\n",
       "  border-bottom-width: var(--jp-border-width);\n",
       "  border-bottom-color: var(--jp-border-color0);\n",
       "  border-bottom-style: solid;\n",
       "}\n",
       ".tuneStatus .vDivider {\n",
       "  border-left-width: var(--jp-border-width);\n",
       "  border-left-color: var(--jp-border-color0);\n",
       "  border-left-style: solid;\n",
       "  margin: 0.5em 1em 0.5em 1em;\n",
       "}\n",
       "</style>\n"
      ],
      "text/plain": [
       "<IPython.core.display.HTML object>"
      ]
     },
     "metadata": {},
     "output_type": "display_data"
    },
    {
     "name": "stdout",
     "output_type": "stream",
     "text": [
      "\u001b[36m(PPO pid=58470)\u001b[0m  Retrying in 1 seconds\n",
      "\u001b[36m(PPO pid=58470)\u001b[0m Step #0.00 (0ms ?*RT. ?UPS, TraCI: 44ms, vehicles TOT 0 ACT 0 BUF 0)                     \n",
      "\u001b[36m(RolloutWorker pid=58581)\u001b[0m  Retrying in 1 seconds\n",
      "\u001b[36m(RolloutWorker pid=58580)\u001b[0m  Retrying in 1 seconds\n",
      "\u001b[36m(RolloutWorker pid=58581)\u001b[0m Step #0.00 (0ms ?*RT. ?UPS, TraCI: 54ms, vehicles TOT 0 ACT 0 BUF 0)                     \n",
      "\u001b[36m(RolloutWorker pid=58580)\u001b[0m Step #0.00 (0ms ?*RT. ?UPS, TraCI: 53ms, vehicles TOT 0 ACT 0 BUF 0)                     \n"
     ]
    },
    {
     "name": "stderr",
     "output_type": "stream",
     "text": [
      "\u001b[36m(PPO pid=58470)\u001b[0m Install gputil for GPU system monitoring.\n"
     ]
    },
    {
     "name": "stdout",
     "output_type": "stream",
     "text": [
      "Step #5.00 (0ms ?*RT. ?UPS, TraCI: 2219ms, vehicles TOT 1 ACT 1 BUF 0)                    1 ACT 1 BUF 0)                     \n",
      "Step #1300.00 (1ms ~= 1000.00*RT, ~89000.00UPS, TraCI: 143ms, vehicles TOT 386 ACT 89 BUF 1 ACT 1 BUF 0)                     \n",
      "\u001b[36m(RolloutWorker pid=58580)\u001b[0m  Retrying in 1 seconds\u001b[32m [repeated 4x across cluster] (Ray deduplicates logs by default. Set RAY_DEDUP_LOGS=0 to disable log deduplication, or see https://docs.ray.io/en/master/ray-observability/ray-logging.html#log-deduplication for more options.)\u001b[0m\n",
      "Step #5.00 (0ms ?*RT. ?UPS, TraCI: 2212ms, vehicles TOT 1 ACT 1 BUF 0)                    1 ACT 1 BUF 0)                     \n"
     ]
    },
    {
     "name": "stderr",
     "output_type": "stream",
     "text": [
      "\u001b[36m(RolloutWorker pid=58581)\u001b[0m Warning: Vehicle '354' performs emergency braking on lane ':A1_42_0' with decel=9.00, wished=4.50, severity=1.00, time=1380.00.\n"
     ]
    },
    {
     "name": "stdout",
     "output_type": "stream",
     "text": [
      "Step #2000.00 (2ms ~= 500.00*RT, ~114000.00UPS, TraCI: 825ms, vehicles TOT 907 ACT 228 BUF1 ACT 1 BUF 0)                     \n",
      "\u001b[36m(RolloutWorker pid=58580)\u001b[0m  Retrying in 1 seconds\n",
      "Step #2000.00 (2ms ~= 500.00*RT, ~107500.00UPS, TraCI: 788ms, vehicles TOT 907 ACT 215 BUF 121ms, vehicles TOT 432 ACT 100 BU\n",
      "\u001b[36m(RolloutWorker pid=58581)\u001b[0m  Retrying in 1 seconds\n",
      "Step #2000.00 (2ms ~= 500.00*RT, ~111500.00UPS, TraCI: 791ms, vehicles TOT 907 ACT 223 BUF1 ACT 1 BUF 0)                     \n",
      "\u001b[36m(RolloutWorker pid=58580)\u001b[0m  Retrying in 1 seconds\n",
      "Step #2000.00 (2ms ~= 500.00*RT, ~112500.00UPS, TraCI: 678ms, vehicles TOT 907 ACT 225 BUF1 ACT 1 BUF 0)                     \n",
      "Step #2000.00 (1ms ~= 1000.00*RT, ~235000.00UPS, TraCI: 924ms, vehicles TOT 907 ACT 235 BU1 ACT 1 BUF 0)                     \n",
      "\u001b[36m(RolloutWorker pid=58580)\u001b[0m  Retrying in 1 seconds\u001b[32m [repeated 2x across cluster]\u001b[0m\n",
      "Step #2000.00 (1ms ~= 1000.00*RT, ~230000.00UPS, TraCI: 667ms, vehicles TOT 907 ACT 230 BU1 ACT 1 BUF 0)                     \n",
      "Step #2000.00 (2ms ~= 500.00*RT, ~103000.00UPS, TraCI: 981ms, vehicles TOT 907 ACT 206 BUF1 ACT 1 BUF 0)                     \n",
      "\u001b[36m(RolloutWorker pid=58580)\u001b[0m  Retrying in 1 seconds\u001b[32m [repeated 2x across cluster]\u001b[0m\n",
      "Step #2000.00 (2ms ~= 500.00*RT, ~113000.00UPS, TraCI: 714ms, vehicles TOT 907 ACT 226 BUF1 ACT 1 BUF 0)                     \n"
     ]
    },
    {
     "name": "stderr",
     "output_type": "stream",
     "text": [
      "\u001b[36m(RolloutWorker pid=58580)\u001b[0m Warning: Vehicle '623' performs emergency braking on lane ':C0_39_0' with decel=9.00, wished=4.50, severity=1.00, time=1764.00.\n"
     ]
    },
    {
     "name": "stdout",
     "output_type": "stream",
     "text": [
      "Step #1700.00 (1ms ~= 1000.00*RT, ~153000.00UPS, TraCI: 169ms, vehicles TOT 623 ACT 153 BU1 ACT 1 BUF 0)                     \n",
      "\u001b[36m(RolloutWorker pid=58581)\u001b[0m  Retrying in 1 seconds\n"
     ]
    },
    {
     "name": "stderr",
     "output_type": "stream",
     "text": [
      "\u001b[36m(RolloutWorker pid=58580)\u001b[0m Warning: Vehicle '718' performs emergency braking on lane ':D3_36_0' with decel=9.00, wished=4.50, severity=1.00, time=1832.00.\n"
     ]
    },
    {
     "name": "stdout",
     "output_type": "stream",
     "text": [
      "\u001b[36m(RolloutWorker pid=58580)\u001b[0m Step #1800.00 (2ms ~= 500.00*RT, ~90000.00UPS, TraCI: 180ms, vehicles TOT 708 ACT 180 BUF \n",
      "Step #2000.00 (1ms ~= 1000.00*RT, ~224000.00UPS, TraCI: 852ms, vehicles TOT 907 ACT 224 BU185ms, vehicles TOT 824 ACT 224 BUF\n",
      "\u001b[36m(RolloutWorker pid=58580)\u001b[0m  Retrying in 1 seconds\n"
     ]
    },
    {
     "name": "stderr",
     "output_type": "stream",
     "text": [
      "\u001b[36m(RolloutWorker pid=58580)\u001b[0m 2024-03-07 16:29:52,936\tWARNING env_runner_v2.py:155 -- More than 32000 observations in 2000 env steps for episode 556067461535154005 are buffered in the sampler. If this is more than you expected, check that that you set a horizon on your environment correctly and that it terminates at some point. Note: In multi-agent environments, `rollout_fragment_length` sets the batch size based on (across-agents) environment steps, not the steps of individual agents, which can result in unexpectedly large batches.\n"
     ]
    },
    {
     "name": "stdout",
     "output_type": "stream",
     "text": [
      "Step #2000.00 (1ms ~= 1000.00*RT, ~224000.00UPS, TraCI: 673ms, vehicles TOT 907 ACT 224 BU1 ACT 1 BUF 0)                     \n"
     ]
    },
    {
     "name": "stderr",
     "output_type": "stream",
     "text": [
      "\u001b[36m(PPO pid=58470)\u001b[0m 2024-03-07 16:29:54,461\tWARNING deprecation.py:50 -- DeprecationWarning: `_get_slice_indices` has been deprecated. This will raise an error in the future!\n",
      "\u001b[36m(PPO pid=58470)\u001b[0m Checkpoint successfully created at: Checkpoint(filesystem=local, path=/home/sandaruvi/Workspace/Playground/sumo_rl_petting_zoo/ray_results/PPO_2024-03-07_16-24-39/PPO_SumoEnv_183af_00000_0_2024-03-07_16-24-39/checkpoint_000000)\n"
     ]
    },
    {
     "data": {
      "text/html": [
       "<div class=\"trialProgress\">\n",
       "  <h3>Trial Progress</h3>\n",
       "  <table>\n",
       "<thead>\n",
       "<tr><th>Trial name             </th><th style=\"text-align: right;\">  agent_timesteps_total</th><th>connector_metrics                                                                                                                                             </th><th>counters                                                                                                                          </th><th>custom_metrics  </th><th style=\"text-align: right;\">  episode_len_mean</th><th>episode_media  </th><th style=\"text-align: right;\">  episode_reward_max</th><th style=\"text-align: right;\">  episode_reward_mean</th><th style=\"text-align: right;\">  episode_reward_min</th><th style=\"text-align: right;\">  episodes_this_iter</th><th>info                                                                                                                                                                                                                                                                                                                                                                                                                                                                                                                                                                                                                                                                                                                                                                                                                                                                                                                                                                                                                                                                                                                                                                                                                                                                                                                                                                                                                                                                                                                                                                                                                                                                                                                                                                                                                                                                                                                                                                                                                                                                                                                                                                                                                                                                                                                                                                                                                                                                                                                                                                                                                                                                                                                                                                                                                                                                                                                                                                                                                                                                                                                                                                                                                                                                                                                                                                                                                                                                                                                                                                                                                                                                                                                                                                                                                                                                                                                                                                                                                                                                                                                                                                                                                                                                                                                                                                                                                                                                                                                                                                                                                                                                                                                                                                                                                                                                                                                                                                                                                                                                                                                                                                                                                                                                                                                                                                                                                                                                                                                                                                                                                                                                                                                                                                                                                                                                                                                                                                                                                                                                                                                                                                                                                                                                                                                                                                                                                                                                                                                                                                                                                                                                                                                                                                                                                                                                                                                                                                                                                                                                                                                                                                                                                                                                                                                                                                                                                                                                                                                                                                                                                                                                                                                                                                                                                                                                                                                                                                                                                                                                                                                                                                                                                                                                                                                                                                                                                                                                                                                                                                                                                                                                                                                                                                                                                                                                                                                                                                                                                                                                                                        </th><th style=\"text-align: right;\">  num_agent_steps_sampled</th><th style=\"text-align: right;\">  num_agent_steps_trained</th><th style=\"text-align: right;\">  num_env_steps_sampled</th><th style=\"text-align: right;\">  num_env_steps_sampled_this_iter</th><th style=\"text-align: right;\">  num_env_steps_sampled_throughput_per_sec</th><th style=\"text-align: right;\">  num_env_steps_trained</th><th style=\"text-align: right;\">  num_env_steps_trained_this_iter</th><th style=\"text-align: right;\">  num_env_steps_trained_throughput_per_sec</th><th style=\"text-align: right;\">  num_faulty_episodes</th><th style=\"text-align: right;\">  num_healthy_workers</th><th style=\"text-align: right;\">  num_in_flight_async_reqs</th><th style=\"text-align: right;\">  num_remote_worker_restarts</th><th style=\"text-align: right;\">  num_steps_trained_this_iter</th><th>perf                                                                           </th><th>policy_reward_max                                                                                                                                                                                                                                                                                                                                                                                   </th><th>policy_reward_mean                                                                                                                                                                                                                                                                                                                                                </th><th>policy_reward_min                                                                                                                                                                                                </th><th>sampler_perf                                                                                                                                                                                                  </th><th>sampler_results                                                                                                                                                                                                                                                                                                                                                                                                                                                                                                                                                                                                                                                                                                                                                                                                                                                                                                                                                                                                                                                                                                                                                                                                                                                                                                                                                                                                                                                                                                                                                                                                                                                                                                                                                                                                                                                                                                                                                                                                                                                                                                                                                                                                                                                                                                                                                                                                                                                                                                                                                                                                                                                                                                                                                                                                                                                                                                                                                                                                                                                                                                                                                                                                                                                                                                                                                                                                                                                                                                                                                                                                                                                                                                                                                                                                                                                                                                                                                                                                                                                                                                                                                                                                                                                                                                                                                                                                                                                                                                       </th><th>timers                                                                                                                                                           </th></tr>\n",
       "</thead>\n",
       "<tbody>\n",
       "<tr><td>PPO_SumoEnv_183af_00000</td><td style=\"text-align: right;\">                  64000</td><td>{&#x27;ObsPreprocessorConnector_ms&#x27;: 0.008518695831298828, &#x27;StateBufferConnector_ms&#x27;: 0.00446319580078125, &#x27;ViewRequirementAgentConnector_ms&#x27;: 0.10933235287666321}</td><td>{&#x27;num_env_steps_sampled&#x27;: 4000, &#x27;num_env_steps_trained&#x27;: 4000, &#x27;num_agent_steps_sampled&#x27;: 64000, &#x27;num_agent_steps_trained&#x27;: 64000}</td><td>{}              </td><td style=\"text-align: right;\">               400</td><td>{}             </td><td style=\"text-align: right;\">              -21.77</td><td style=\"text-align: right;\">              -41.326</td><td style=\"text-align: right;\">              -64.33</td><td style=\"text-align: right;\">                  10</td><td>{&#x27;learner&#x27;: {&#x27;B2&#x27;: {&#x27;learner_stats&#x27;: {&#x27;allreduce_latency&#x27;: 0.0, &#x27;grad_gnorm&#x27;: 0.8047423308094342, &#x27;cur_kl_coeff&#x27;: 0.20000000000000004, &#x27;cur_lr&#x27;: 5.0000000000000016e-05, &#x27;total_loss&#x27;: 0.7254843168271085, &#x27;policy_loss&#x27;: -0.012626255835736325, &#x27;vf_loss&#x27;: 0.736392367631197, &#x27;vf_explained_var&#x27;: 0.02113215687374274, &#x27;kl&#x27;: 0.008591033077033423, &#x27;entropy&#x27;: 2.0709390794237454, &#x27;entropy_coeff&#x27;: 0.0}, &#x27;model&#x27;: {}, &#x27;custom_metrics&#x27;: {}, &#x27;num_agent_steps_trained&#x27;: 125.0, &#x27;num_grad_updates_lifetime&#x27;: 480.5, &#x27;diff_num_grad_updates_vs_sampler_policy&#x27;: 479.5}, &#x27;B1&#x27;: {&#x27;learner_stats&#x27;: {&#x27;allreduce_latency&#x27;: 0.0, &#x27;grad_gnorm&#x27;: 0.8323812761033574, &#x27;cur_kl_coeff&#x27;: 0.20000000000000004, &#x27;cur_lr&#x27;: 5.0000000000000016e-05, &#x27;total_loss&#x27;: 0.7898427488592764, &#x27;policy_loss&#x27;: -0.014279221719577132, &#x27;vf_loss&#x27;: 0.8022939734781782, &#x27;vf_explained_var&#x27;: 0.015432455949485302, &#x27;kl&#x27;: 0.009139968850504353, &#x27;entropy&#x27;: 2.0704634877542656, &#x27;entropy_coeff&#x27;: 0.0}, &#x27;model&#x27;: {}, &#x27;custom_metrics&#x27;: {}, &#x27;num_agent_steps_trained&#x27;: 125.0, &#x27;num_grad_updates_lifetime&#x27;: 480.5, &#x27;diff_num_grad_updates_vs_sampler_policy&#x27;: 479.5}, &#x27;B0&#x27;: {&#x27;learner_stats&#x27;: {&#x27;allreduce_latency&#x27;: 0.0, &#x27;grad_gnorm&#x27;: 0.7024085528527697, &#x27;cur_kl_coeff&#x27;: 0.20000000000000004, &#x27;cur_lr&#x27;: 5.0000000000000016e-05, &#x27;total_loss&#x27;: 0.5931270025204867, &#x27;policy_loss&#x27;: -0.009844909537787317, &#x27;vf_loss&#x27;: 0.601733433874324, &#x27;vf_explained_var&#x27;: 0.012935686546067396, &#x27;kl&#x27;: 0.006192384702009905, &#x27;entropy&#x27;: 2.073270001510779, &#x27;entropy_coeff&#x27;: 0.0}, &#x27;model&#x27;: {}, &#x27;custom_metrics&#x27;: {}, &#x27;num_agent_steps_trained&#x27;: 125.0, &#x27;num_grad_updates_lifetime&#x27;: 480.5, &#x27;diff_num_grad_updates_vs_sampler_policy&#x27;: 479.5}, &#x27;A2&#x27;: {&#x27;learner_stats&#x27;: {&#x27;allreduce_latency&#x27;: 0.0, &#x27;grad_gnorm&#x27;: 1.4247542057186364, &#x27;cur_kl_coeff&#x27;: 0.20000000000000004, &#x27;cur_lr&#x27;: 5.0000000000000016e-05, &#x27;total_loss&#x27;: 1.9146051600265006, &#x27;policy_loss&#x27;: -0.015421318010582278, &#x27;vf_loss&#x27;: 1.9280823959658544, &#x27;vf_explained_var&#x27;: -0.0007082121446728706, &#x27;kl&#x27;: 0.00972037355135688, &#x27;entropy&#x27;: 2.06988710463047, &#x27;entropy_coeff&#x27;: 0.0}, &#x27;model&#x27;: {}, &#x27;custom_metrics&#x27;: {}, &#x27;num_agent_steps_trained&#x27;: 125.0, &#x27;num_grad_updates_lifetime&#x27;: 480.5, &#x27;diff_num_grad_updates_vs_sampler_policy&#x27;: 479.5}, &#x27;A3&#x27;: {&#x27;learner_stats&#x27;: {&#x27;allreduce_latency&#x27;: 0.0, &#x27;grad_gnorm&#x27;: 1.3689236602435508, &#x27;cur_kl_coeff&#x27;: 0.20000000000000004, &#x27;cur_lr&#x27;: 5.0000000000000016e-05, &#x27;total_loss&#x27;: 1.5303156637276212, &#x27;policy_loss&#x27;: -0.014326505910382063, &#x27;vf_loss&#x27;: 1.5427105527992049, &#x27;vf_explained_var&#x27;: -0.0050178823371728265, &#x27;kl&#x27;: 0.00965807333879986, &#x27;entropy&#x27;: 2.069895726442337, &#x27;entropy_coeff&#x27;: 0.0}, &#x27;model&#x27;: {}, &#x27;custom_metrics&#x27;: {}, &#x27;num_agent_steps_trained&#x27;: 125.0, &#x27;num_grad_updates_lifetime&#x27;: 480.5, &#x27;diff_num_grad_updates_vs_sampler_policy&#x27;: 479.5}, &#x27;D2&#x27;: {&#x27;learner_stats&#x27;: {&#x27;allreduce_latency&#x27;: 0.0, &#x27;grad_gnorm&#x27;: 1.0814585922906796, &#x27;cur_kl_coeff&#x27;: 0.20000000000000004, &#x27;cur_lr&#x27;: 5.0000000000000016e-05, &#x27;total_loss&#x27;: 1.2486769596735636, &#x27;policy_loss&#x27;: -0.01161747655593596, &#x27;vf_loss&#x27;: 1.2586711456999182, &#x27;vf_explained_var&#x27;: 0.0015676625072956086, &#x27;kl&#x27;: 0.008116465985845756, &#x27;entropy&#x27;: 2.0713832559684913, &#x27;entropy_coeff&#x27;: 0.0}, &#x27;model&#x27;: {}, &#x27;custom_metrics&#x27;: {}, &#x27;num_agent_steps_trained&#x27;: 125.0, &#x27;num_grad_updates_lifetime&#x27;: 480.5, &#x27;diff_num_grad_updates_vs_sampler_policy&#x27;: 479.5}, &#x27;D1&#x27;: {&#x27;learner_stats&#x27;: {&#x27;allreduce_latency&#x27;: 0.0, &#x27;grad_gnorm&#x27;: 0.9373768414991598, &#x27;cur_kl_coeff&#x27;: 0.20000000000000004, &#x27;cur_lr&#x27;: 5.0000000000000016e-05, &#x27;total_loss&#x27;: 1.1329569496524832, &#x27;policy_loss&#x27;: -0.010275247824029065, &#x27;vf_loss&#x27;: 1.1417067559435963, &#x27;vf_explained_var&#x27;: 0.012557364689807097, &#x27;kl&#x27;: 0.007627200524006778, &#x27;entropy&#x27;: 2.0717900435129804, &#x27;entropy_coeff&#x27;: 0.0}, &#x27;model&#x27;: {}, &#x27;custom_metrics&#x27;: {}, &#x27;num_agent_steps_trained&#x27;: 125.0, &#x27;num_grad_updates_lifetime&#x27;: 480.5, &#x27;diff_num_grad_updates_vs_sampler_policy&#x27;: 479.5}, &#x27;C2&#x27;: {&#x27;learner_stats&#x27;: {&#x27;allreduce_latency&#x27;: 0.0, &#x27;grad_gnorm&#x27;: 1.0098984907070796, &#x27;cur_kl_coeff&#x27;: 0.20000000000000004, &#x27;cur_lr&#x27;: 5.0000000000000016e-05, &#x27;total_loss&#x27;: 1.292203195237865, &#x27;policy_loss&#x27;: -0.009797564716548853, &#x27;vf_loss&#x27;: 1.3006265267108879, &#x27;vf_explained_var&#x27;: -0.0043234078834454214, &#x27;kl&#x27;: 0.0068711636215463955, &#x27;entropy&#x27;: 2.072576951980591, &#x27;entropy_coeff&#x27;: 0.0}, &#x27;model&#x27;: {}, &#x27;custom_metrics&#x27;: {}, &#x27;num_agent_steps_trained&#x27;: 125.0, &#x27;num_grad_updates_lifetime&#x27;: 480.5, &#x27;diff_num_grad_updates_vs_sampler_policy&#x27;: 479.5}, &#x27;A0&#x27;: {&#x27;learner_stats&#x27;: {&#x27;allreduce_latency&#x27;: 0.0, &#x27;grad_gnorm&#x27;: 0.661222542108347, &#x27;cur_kl_coeff&#x27;: 0.20000000000000004, &#x27;cur_lr&#x27;: 5.0000000000000016e-05, &#x27;total_loss&#x27;: 0.5848597941920162, &#x27;policy_loss&#x27;: -0.012707256978319491, &#x27;vf_loss&#x27;: 0.5959689750646552, &#x27;vf_explained_var&#x27;: 0.03806164624790351, &#x27;kl&#x27;: 0.00799038814160296, &#x27;entropy&#x27;: 2.0716460096339384, &#x27;entropy_coeff&#x27;: 0.0}, &#x27;model&#x27;: {}, &#x27;custom_metrics&#x27;: {}, &#x27;num_agent_steps_trained&#x27;: 125.0, &#x27;num_grad_updates_lifetime&#x27;: 480.5, &#x27;diff_num_grad_updates_vs_sampler_policy&#x27;: 479.5}, &#x27;A1&#x27;: {&#x27;learner_stats&#x27;: {&#x27;allreduce_latency&#x27;: 0.0, &#x27;grad_gnorm&#x27;: 0.7291608485082786, &#x27;cur_kl_coeff&#x27;: 0.20000000000000004, &#x27;cur_lr&#x27;: 5.0000000000000016e-05, &#x27;total_loss&#x27;: 0.7684248497709631, &#x27;policy_loss&#x27;: -0.013327232668719565, &#x27;vf_loss&#x27;: 0.779772559615473, &#x27;vf_explained_var&#x27;: 0.02909023513396581, &#x27;kl&#x27;: 0.009897608793049299, &#x27;entropy&#x27;: 2.069632900506258, &#x27;entropy_coeff&#x27;: 0.0}, &#x27;model&#x27;: {}, &#x27;custom_metrics&#x27;: {}, &#x27;num_agent_steps_trained&#x27;: 125.0, &#x27;num_grad_updates_lifetime&#x27;: 480.5, &#x27;diff_num_grad_updates_vs_sampler_policy&#x27;: 479.5}, &#x27;C0&#x27;: {&#x27;learner_stats&#x27;: {&#x27;allreduce_latency&#x27;: 0.0, &#x27;grad_gnorm&#x27;: 0.791381036117673, &#x27;cur_kl_coeff&#x27;: 0.20000000000000004, &#x27;cur_lr&#x27;: 5.0000000000000016e-05, &#x27;total_loss&#x27;: 1.1738626074045897, &#x27;policy_loss&#x27;: -0.012008325420417047, &#x27;vf_loss&#x27;: 1.1840918039747825, &#x27;vf_explained_var&#x27;: 0.008022266440093517, &#x27;kl&#x27;: 0.008895626996215473, &#x27;entropy&#x27;: 2.0706662294765312, &#x27;entropy_coeff&#x27;: 0.0}, &#x27;model&#x27;: {}, &#x27;custom_metrics&#x27;: {}, &#x27;num_agent_steps_trained&#x27;: 125.0, &#x27;num_grad_updates_lifetime&#x27;: 480.5, &#x27;diff_num_grad_updates_vs_sampler_policy&#x27;: 479.5}, &#x27;D0&#x27;: {&#x27;learner_stats&#x27;: {&#x27;allreduce_latency&#x27;: 0.0, &#x27;grad_gnorm&#x27;: 0.9521413097158075, &#x27;cur_kl_coeff&#x27;: 0.20000000000000004, &#x27;cur_lr&#x27;: 5.0000000000000016e-05, &#x27;total_loss&#x27;: 1.3489257896629472, &#x27;policy_loss&#x27;: -0.009384495403598219, &#x27;vf_loss&#x27;: 1.3572654781242213, &#x27;vf_explained_var&#x27;: 0.002469764711956183, &#x27;kl&#x27;: 0.005224022134435116, &#x27;entropy&#x27;: 2.0742082342505457, &#x27;entropy_coeff&#x27;: 0.0}, &#x27;model&#x27;: {}, &#x27;custom_metrics&#x27;: {}, &#x27;num_agent_steps_trained&#x27;: 125.0, &#x27;num_grad_updates_lifetime&#x27;: 480.5, &#x27;diff_num_grad_updates_vs_sampler_policy&#x27;: 479.5}, &#x27;C1&#x27;: {&#x27;learner_stats&#x27;: {&#x27;allreduce_latency&#x27;: 0.0, &#x27;grad_gnorm&#x27;: 1.0021310427226127, &#x27;cur_kl_coeff&#x27;: 0.20000000000000004, &#x27;cur_lr&#x27;: 5.0000000000000016e-05, &#x27;total_loss&#x27;: 1.0708170238882304, &#x27;policy_loss&#x27;: -0.012079096862968678, &#x27;vf_loss&#x27;: 1.0813101868455608, &#x27;vf_explained_var&#x27;: 0.00451004027078549, &#x27;kl&#x27;: 0.00792966738568035, &#x27;entropy&#x27;: 2.071670293311278, &#x27;entropy_coeff&#x27;: 0.0}, &#x27;model&#x27;: {}, &#x27;custom_metrics&#x27;: {}, &#x27;num_agent_steps_trained&#x27;: 125.0, &#x27;num_grad_updates_lifetime&#x27;: 480.5, &#x27;diff_num_grad_updates_vs_sampler_policy&#x27;: 479.5}, &#x27;D3&#x27;: {&#x27;learner_stats&#x27;: {&#x27;allreduce_latency&#x27;: 0.0, &#x27;grad_gnorm&#x27;: 1.0166200957261027, &#x27;cur_kl_coeff&#x27;: 0.20000000000000004, &#x27;cur_lr&#x27;: 5.0000000000000016e-05, &#x27;total_loss&#x27;: 0.9720718417627116, &#x27;policy_loss&#x27;: -0.00973652270937843, &#x27;vf_loss&#x27;: 0.9805107114526133, &#x27;vf_explained_var&#x27;: 0.0010136087735493978, &#x27;kl&#x27;: 0.006488274442078995, &#x27;entropy&#x27;: 2.072952473908663, &#x27;entropy_coeff&#x27;: 0.0}, &#x27;model&#x27;: {}, &#x27;custom_metrics&#x27;: {}, &#x27;num_agent_steps_trained&#x27;: 125.0, &#x27;num_grad_updates_lifetime&#x27;: 480.5, &#x27;diff_num_grad_updates_vs_sampler_policy&#x27;: 479.5}, &#x27;B3&#x27;: {&#x27;learner_stats&#x27;: {&#x27;allreduce_latency&#x27;: 0.0, &#x27;grad_gnorm&#x27;: 1.026566693559289, &#x27;cur_kl_coeff&#x27;: 0.20000000000000004, &#x27;cur_lr&#x27;: 5.0000000000000016e-05, &#x27;total_loss&#x27;: 1.4149548887585601, &#x27;policy_loss&#x27;: -0.01241726910569317, &#x27;vf_loss&#x27;: 1.4254443638337155, &#x27;vf_explained_var&#x27;: 5.664353569348653e-05, &#x27;kl&#x27;: 0.009638985561933636, &#x27;entropy&#x27;: 2.0700552138189474, &#x27;entropy_coeff&#x27;: 0.0}, &#x27;model&#x27;: {}, &#x27;custom_metrics&#x27;: {}, &#x27;num_agent_steps_trained&#x27;: 125.0, &#x27;num_grad_updates_lifetime&#x27;: 480.5, &#x27;diff_num_grad_updates_vs_sampler_policy&#x27;: 479.5}, &#x27;C3&#x27;: {&#x27;learner_stats&#x27;: {&#x27;allreduce_latency&#x27;: 0.0, &#x27;grad_gnorm&#x27;: 0.7861652184277773, &#x27;cur_kl_coeff&#x27;: 0.20000000000000004, &#x27;cur_lr&#x27;: 5.0000000000000016e-05, &#x27;total_loss&#x27;: 0.8353806167840958, &#x27;policy_loss&#x27;: -0.011123626863021248, &#x27;vf_loss&#x27;: 0.84487306928883, &#x27;vf_explained_var&#x27;: 0.04191983950634797, &#x27;kl&#x27;: 0.008155872051933915, &#x27;entropy&#x27;: 2.0714109413325787, &#x27;entropy_coeff&#x27;: 0.0}, &#x27;model&#x27;: {}, &#x27;custom_metrics&#x27;: {}, &#x27;num_agent_steps_trained&#x27;: 125.0, &#x27;num_grad_updates_lifetime&#x27;: 480.5, &#x27;diff_num_grad_updates_vs_sampler_policy&#x27;: 479.5}}, &#x27;num_env_steps_sampled&#x27;: 4000, &#x27;num_env_steps_trained&#x27;: 4000, &#x27;num_agent_steps_sampled&#x27;: 64000, &#x27;num_agent_steps_trained&#x27;: 64000}</td><td style=\"text-align: right;\">                    64000</td><td style=\"text-align: right;\">                    64000</td><td style=\"text-align: right;\">                   4000</td><td style=\"text-align: right;\">                             4000</td><td style=\"text-align: right;\">                                   9.96555</td><td style=\"text-align: right;\">                   4000</td><td style=\"text-align: right;\">                             4000</td><td style=\"text-align: right;\">                                   9.96555</td><td style=\"text-align: right;\">                    0</td><td style=\"text-align: right;\">                    2</td><td style=\"text-align: right;\">                         0</td><td style=\"text-align: right;\">                           0</td><td style=\"text-align: right;\">                         4000</td><td>{&#x27;cpu_util_percent&#x27;: 27.785288966725044, &#x27;ram_util_percent&#x27;: 43.13555166374781}</td><td>{&#x27;A0&#x27;: -0.06999999999999991, &#x27;A1&#x27;: -0.13, &#x27;A2&#x27;: -1.22, &#x27;A3&#x27;: -0.09000000000000088, &#x27;B0&#x27;: -0.10999999999999999, &#x27;B1&#x27;: -0.09999999999999953, &#x27;B2&#x27;: -0.3400000000000001, &#x27;B3&#x27;: -0.28, &#x27;C0&#x27;: -0.020000000000000028, &#x27;C1&#x27;: -0.49, &#x27;C2&#x27;: -0.23000000000000004, &#x27;C3&#x27;: -0.020000000000000018, &#x27;D0&#x27;: -0.29000000000000004, &#x27;D1&#x27;: -0.12000000000000005, &#x27;D2&#x27;: -0.8099999999999992, &#x27;D3&#x27;: -0.26000000000000045}</td><td>{&#x27;A0&#x27;: -1.3290000000000002, &#x27;A1&#x27;: -1.1699999999999997, &#x27;A2&#x27;: -5.3660000000000005, &#x27;A3&#x27;: -3.9779999999999993, &#x27;B0&#x27;: -1.5829999999999997, &#x27;B1&#x27;: -1.593, &#x27;B2&#x27;: -1.6350000000000002, &#x27;B3&#x27;: -4.304, &#x27;C0&#x27;: -2.4739999999999998, &#x27;C1&#x27;: -2.311, &#x27;C2&#x27;: -3.441, &#x27;C3&#x27;: -1.4289999999999998, &#x27;D0&#x27;: -3.1100000000000003, &#x27;D1&#x27;: -2.105, &#x27;D2&#x27;: -3.0829999999999997, &#x27;D3&#x27;: -2.415}</td><td>{&#x27;A0&#x27;: -3.37, &#x27;A1&#x27;: -4.54, &#x27;A2&#x27;: -20.53, &#x27;A3&#x27;: -7.63, &#x27;B0&#x27;: -4.82, &#x27;B1&#x27;: -3.28, &#x27;B2&#x27;: -4.06, &#x27;B3&#x27;: -21.61, &#x27;C0&#x27;: -10.95, &#x27;C1&#x27;: -5.0, &#x27;C2&#x27;: -10.14, &#x27;C3&#x27;: -2.8, &#x27;D0&#x27;: -9.56, &#x27;D1&#x27;: -6.04, &#x27;D2&#x27;: -7.84, &#x27;D3&#x27;: -4.6}</td><td>{&#x27;mean_raw_obs_processing_ms&#x27;: 7.548208894400761, &#x27;mean_inference_ms&#x27;: 20.786648747445582, &#x27;mean_action_processing_ms&#x27;: 1.7219177786556856, &#x27;mean_env_wait_ms&#x27;: 119.43028957351692, &#x27;mean_env_render_ms&#x27;: 0.0}</td><td>{&#x27;episode_reward_max&#x27;: -21.769999999999975, &#x27;episode_reward_min&#x27;: -64.33000000000011, &#x27;episode_reward_mean&#x27;: -41.32599999999999, &#x27;episode_len_mean&#x27;: 400.0, &#x27;episode_media&#x27;: {}, &#x27;episodes_this_iter&#x27;: 10, &#x27;policy_reward_min&#x27;: {&#x27;A0&#x27;: -3.37, &#x27;A1&#x27;: -4.54, &#x27;A2&#x27;: -20.53, &#x27;A3&#x27;: -7.63, &#x27;B0&#x27;: -4.82, &#x27;B1&#x27;: -3.28, &#x27;B2&#x27;: -4.06, &#x27;B3&#x27;: -21.61, &#x27;C0&#x27;: -10.95, &#x27;C1&#x27;: -5.0, &#x27;C2&#x27;: -10.14, &#x27;C3&#x27;: -2.8, &#x27;D0&#x27;: -9.56, &#x27;D1&#x27;: -6.04, &#x27;D2&#x27;: -7.84, &#x27;D3&#x27;: -4.6}, &#x27;policy_reward_max&#x27;: {&#x27;A0&#x27;: -0.06999999999999991, &#x27;A1&#x27;: -0.13, &#x27;A2&#x27;: -1.22, &#x27;A3&#x27;: -0.09000000000000088, &#x27;B0&#x27;: -0.10999999999999999, &#x27;B1&#x27;: -0.09999999999999953, &#x27;B2&#x27;: -0.3400000000000001, &#x27;B3&#x27;: -0.28, &#x27;C0&#x27;: -0.020000000000000028, &#x27;C1&#x27;: -0.49, &#x27;C2&#x27;: -0.23000000000000004, &#x27;C3&#x27;: -0.020000000000000018, &#x27;D0&#x27;: -0.29000000000000004, &#x27;D1&#x27;: -0.12000000000000005, &#x27;D2&#x27;: -0.8099999999999992, &#x27;D3&#x27;: -0.26000000000000045}, &#x27;policy_reward_mean&#x27;: {&#x27;A0&#x27;: -1.3290000000000002, &#x27;A1&#x27;: -1.1699999999999997, &#x27;A2&#x27;: -5.3660000000000005, &#x27;A3&#x27;: -3.9779999999999993, &#x27;B0&#x27;: -1.5829999999999997, &#x27;B1&#x27;: -1.593, &#x27;B2&#x27;: -1.6350000000000002, &#x27;B3&#x27;: -4.304, &#x27;C0&#x27;: -2.4739999999999998, &#x27;C1&#x27;: -2.311, &#x27;C2&#x27;: -3.441, &#x27;C3&#x27;: -1.4289999999999998, &#x27;D0&#x27;: -3.1100000000000003, &#x27;D1&#x27;: -2.105, &#x27;D2&#x27;: -3.0829999999999997, &#x27;D3&#x27;: -2.415}, &#x27;custom_metrics&#x27;: {}, &#x27;hist_stats&#x27;: {&#x27;episode_reward&#x27;: [-33.92999999999998, -30.510000000000048, -64.33000000000011, -21.769999999999975, -56.63000000000002, -38.169999999999874, -37.57000000000004, -53.40000000000005, -39.909999999999926, -37.03999999999995], &#x27;episode_lengths&#x27;: [400, 400, 400, 400, 400, 400, 400, 400, 400, 400], &#x27;policy_A0_reward&#x27;: [-0.06999999999999991, -0.7500000000000002, -1.43, -0.8600000000000001, -2.8300000000000005, -0.52, -0.17000000000000048, -3.37, -1.65, -1.64], &#x27;policy_A1_reward&#x27;: [-1.1399999999999995, -0.13, -0.8299999999999995, -0.21, -0.6099999999999997, -0.7099999999999995, -1.2, -1.44, -0.8899999999999997, -4.54], &#x27;policy_A2_reward&#x27;: [-2.63, -3.68, -20.53, -1.8699999999999997, -4.35, -5.67, -3.21, -7.68, -1.22, -2.8200000000000007], &#x27;policy_A3_reward&#x27;: [-7.63, -0.5699999999999998, -7.39, -0.09000000000000088, -6.14, -3.29, -4.37, -1.5499999999999998, -4.66, -4.089999999999999], &#x27;policy_B0_reward&#x27;: [-1.2699999999999996, -0.8400000000000002, -1.8199999999999996, -4.82, -1.34, -2.91, -1.4, -0.45, -0.87, -0.10999999999999999], &#x27;policy_B1_reward&#x27;: [-2.2900000000000005, -2.34, -0.4200000000000002, -0.7800000000000004, -0.8699999999999996, -3.26, -1.92, -3.28, -0.6700000000000003, -0.09999999999999953], &#x27;policy_B2_reward&#x27;: [-0.84, -1.06, -4.06, -1.22, -1.0100000000000002, -1.16, -0.3400000000000001, -2.38, -1.2399999999999995, -3.04], &#x27;policy_B3_reward&#x27;: [-1.7599999999999996, -2.03, -2.039999999999999, -0.4800000000000004, -5.04, -3.220000000000001, -3.77, -21.61, -0.28, -2.81], &#x27;policy_C0_reward&#x27;: [-0.020000000000000028, -1.39, -1.56, -0.15999999999999986, -1.1499999999999997, -0.33999999999999964, -2.04, -0.40000000000000036, -10.95, -6.73], &#x27;policy_C1_reward&#x27;: [-1.760000000000001, -1.31, -5.0, -0.7, -4.83, -3.23, -0.49, -1.9599999999999995, -1.5400000000000003, -2.29], &#x27;policy_C2_reward&#x27;: [-0.23000000000000004, -0.6399999999999996, -5.19, -2.21, -10.14, -7.25, -3.1799999999999993, -1.3699999999999992, -1.77, -2.43], &#x27;policy_C3_reward&#x27;: [-0.020000000000000018, -0.8899999999999991, -0.5, -1.8899999999999995, -2.5, -2.8, -2.78, -0.5300000000000005, -0.27999999999999997, -2.1], &#x27;policy_D0_reward&#x27;: [-2.38, -7.37, -2.9, -1.0899999999999996, -9.56, -1.2900000000000005, -0.45000000000000084, -4.2, -0.29000000000000004, -1.57], &#x27;policy_D1_reward&#x27;: [-5.63, -0.43, -2.9700000000000006, -1.1, -0.5700000000000006, -1.45, -6.04, -1.1, -1.639999999999999, -0.12000000000000005], &#x27;policy_D2_reward&#x27;: [-2.42, -2.849999999999999, -3.79, -3.73, -1.09, -0.8099999999999992, -5.7, -1.34, -7.84, -1.2600000000000002], &#x27;policy_D3_reward&#x27;: [-3.84, -4.23, -3.9, -0.56, -4.6, -0.26000000000000045, -0.51, -0.7399999999999999, -4.12, -1.39]}, &#x27;sampler_perf&#x27;: {&#x27;mean_raw_obs_processing_ms&#x27;: 7.548208894400761, &#x27;mean_inference_ms&#x27;: 20.786648747445582, &#x27;mean_action_processing_ms&#x27;: 1.7219177786556856, &#x27;mean_env_wait_ms&#x27;: 119.43028957351692, &#x27;mean_env_render_ms&#x27;: 0.0}, &#x27;num_faulty_episodes&#x27;: 0, &#x27;connector_metrics&#x27;: {&#x27;ObsPreprocessorConnector_ms&#x27;: 0.008518695831298828, &#x27;StateBufferConnector_ms&#x27;: 0.00446319580078125, &#x27;ViewRequirementAgentConnector_ms&#x27;: 0.10933235287666321}}</td><td>{&#x27;training_iteration_time_ms&#x27;: 401382.827, &#x27;sample_time_ms&#x27;: 300037.576, &#x27;learn_time_ms&#x27;: 101315.247, &#x27;learn_throughput&#x27;: 39.481, &#x27;synch_weights_time_ms&#x27;: 9.571}</td></tr>\n",
       "</tbody>\n",
       "</table>\n",
       "</div>\n",
       "<style>\n",
       ".trialProgress {\n",
       "  display: flex;\n",
       "  flex-direction: column;\n",
       "  color: var(--jp-ui-font-color1);\n",
       "}\n",
       ".trialProgress h3 {\n",
       "  font-weight: bold;\n",
       "}\n",
       ".trialProgress td {\n",
       "  white-space: nowrap;\n",
       "}\n",
       "</style>\n"
      ],
      "text/plain": [
       "<IPython.core.display.HTML object>"
      ]
     },
     "metadata": {},
     "output_type": "display_data"
    },
    {
     "name": "stderr",
     "output_type": "stream",
     "text": [
      "2024-03-07 16:31:36,510\tINFO tune.py:1042 -- Total run time: 417.60 seconds (416.88 seconds for the tuning loop).\n"
     ]
    },
    {
     "data": {
      "text/plain": [
       "<ray.tune.analysis.experiment_analysis.ExperimentAnalysis at 0x7f1ecc4c9d80>"
      ]
     },
     "execution_count": 7,
     "metadata": {},
     "output_type": "execute_result"
    }
   ],
   "source": [
    "tune.run(\n",
    "    \"PPO\",\n",
    "    config=config,\n",
    "    stop={\"timesteps_total\": 1600},\n",
    "    checkpoint_at_end=True,\n",
    "    local_dir=\"/home/sandaruvi/Workspace/Playground/sumo_rl_petting_zoo/ray_results\",\n",
    ")"
   ]
  }
 ],
 "metadata": {
  "kernelspec": {
   "display_name": "torch_pz",
   "language": "python",
   "name": "python3"
  },
  "language_info": {
   "codemirror_mode": {
    "name": "ipython",
    "version": 3
   },
   "file_extension": ".py",
   "mimetype": "text/x-python",
   "name": "python",
   "nbconvert_exporter": "python",
   "pygments_lexer": "ipython3",
   "version": "3.10.13"
  }
 },
 "nbformat": 4,
 "nbformat_minor": 2
}
